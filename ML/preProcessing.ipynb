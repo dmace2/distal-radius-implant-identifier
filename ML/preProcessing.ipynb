{
 "cells": [
  {
   "cell_type": "code",
   "execution_count": null,
   "metadata": {},
   "outputs": [],
   "source": []
  },
  {
   "cell_type": "code",
   "execution_count": null,
   "metadata": {},
   "outputs": [],
   "source": []
  },
  {
   "cell_type": "code",
   "execution_count": null,
   "metadata": {},
   "outputs": [],
   "source": []
  },
  {
   "cell_type": "code",
   "execution_count": null,
   "metadata": {},
   "outputs": [],
   "source": [
    "import cv2\n",
    "from matplotlib import pyplot as plt\n",
    "\n",
    "# Opening image\n",
    "img = gray\n",
    "\n",
    "# OpenCV opens images as BRG\n",
    "# but we want it as RGB We'll\n",
    "# also need a grayscale version\n",
    "img_gray = cv2.cvtColor(img, cv2.COLOR_BGR2GRAY)\n",
    "img_rgb = cv2.cvtColor(img, cv2.COLOR_BGR2RGB)\n",
    "\n",
    "\n",
    "# Use minSize because for not\n",
    "# bothering with extra-small\n",
    "# dots that would look like STOP signs\n",
    "stop_data = cv2.CascadeClassifier('stop_data.xml')\n",
    "\n",
    "found = stop_data.detectMultiScale(img_gray,\n",
    "\t\t\t\t\t\t\t\tminSize =(20, 20))\n",
    "\n",
    "# Don't do anything if there's\n",
    "# no sign\n",
    "amount_found = len(found)\n",
    "\n",
    "if amount_found != 0:\n",
    "\t\n",
    "\t# There may be more than one\n",
    "\t# sign in the image\n",
    "\tfor (x, y, width, height) in found:\n",
    "\t\t\n",
    "\t\t# We draw a green rectangle around\n",
    "\t\t# every recognized sign\n",
    "\t\tcv2.rectangle(img_rgb, (x, y),\n",
    "\t\t\t\t\t(x + height, y + width),\n",
    "\t\t\t\t\t(0, 255, 0), 5)\n",
    "\t\t\n",
    "# Creates the environment of\n",
    "# the picture and shows it\n",
    "plt.subplot(1, 1, 1)\n",
    "plt.imshow(img_rgb)\n",
    "plt.show()\n"
   ]
  },
  {
   "cell_type": "code",
   "execution_count": null,
   "metadata": {},
   "outputs": [],
   "source": [
    "import sys\n",
    "!{sys.executable} -m pip install opencv-python\n",
    "import cv2\n",
    "!{sys.executable} -m pip install matplotlib\n",
    "from matplotlib import pyplot as plt\n",
    "!{sys.executable} -m pip install numpy\n",
    "import numpy as np  \n",
    "from math import atan2, cos, sin, sqrt, pi\n",
    "from glob import glob\n",
    "import os"
   ]
  },
  {
   "cell_type": "code",
   "execution_count": null,
   "metadata": {},
   "outputs": [],
   "source": [
    "filepaths = glob(\"sample/*.png\", recursive=True)\n",
    "print(filepaths[:10])"
   ]
  },
  {
   "cell_type": "code",
   "execution_count": null,
   "metadata": {},
   "outputs": [],
   "source": [
    "images = {}\n",
    "grayScale = {}\n",
    "blurs = {}\n",
    "\n",
    "for filepath in filepaths:\n",
    "    image = cv2.imread(filepath)\n",
    "    dim = (200, np.floor(image.shape[0] / image.shape[1] * 200 ).astype(int))\n",
    "    image = cv2.resize(image, dim)\n",
    "    gray = cv2.cvtColor(image,cv2.COLOR_BGR2GRAY)\n",
    "    blur = cv2.medianBlur(gray, 7)\n",
    "    images[filepath] = image\n",
    "    grayScale[filepath] = gray\n",
    "    blurs[filepath] = blur\n",
    "    \n",
    "    f = plt.figure()\n",
    "    f.add_subplot(1,2, 1)\n",
    "    plt.imshow(gray, cmap='gray')\n",
    "    f.add_subplot(1,2, 2)\n",
    "    plt.imshow(blur, cmap='gray')\n",
    "    plt.show(block=True)"
   ]
  },
  {
   "cell_type": "code",
   "execution_count": null,
   "metadata": {},
   "outputs": [],
   "source": [
    "import matplotlib.pyplot as plt"
   ]
  },
  {
   "cell_type": "code",
   "execution_count": null,
   "metadata": {},
   "outputs": [],
   "source": [
    "sobel = {}\n",
    "\n",
    "\n",
    "%matplotlib inline\n",
    "## Sobel Edge Detection\n",
    "for filepath, image in blurs.items():\n",
    "    print(\"Processing:\", filepath)\n",
    "    sobelx = cv2.Sobel(src=image, ddepth=cv2.CV_64F, dx=1, dy=0, ksize=5) # Sobel Edge Detection on the X axix\n",
    "    sobely = cv2.Sobel(src=image, ddepth=cv2.CV_64F, dx=0, dy=1, ksize=5) # Sobel Edge Detection on the Y axis\n",
    "    sobelxy = cv2.Sobel(src=image, ddepth=cv2.CV_64F, dx=1, dy=1, ksize=5) # Combined X and Y Sobel Edge Detection\n",
    "    # Display Sobel Edge Detection Images\n",
    "    # cv2.imshow('Sobel X', sobelx)\n",
    "    # cv2.imshow('Sobel Y', sobely)\n",
    "    # cv2.imshow('Sobel X Y using Sobel() function', sobelxy)\n",
    "    # f = plt.figure()\n",
    "    # f.add_subplot(1,2, 1)\n",
    "    # plt.imshow(sobelx, cmap='gray')\n",
    "    # f.add_subplot(1,2, 2)\n",
    "    # plt.imshow(sobely, cmap='gray')\n",
    "    # f.add_subplot(1,2, 3)\n",
    "    # plt.imshow(sobelxy, cmap='gray')\n",
    "    sobel[filepath] = sobelx\n",
    "    f, axarr = plt.subplots(1,3)\n",
    "    axarr[0].imshow(sobelx, cmap='gray')\n",
    "    axarr[1].imshow(sobely, cmap='gray')\n",
    "    axarr[2].imshow(sobelxy, cmap='gray')\n",
    "\n",
    "\n",
    "\n",
    "    plt.show(block=True)\n",
    "    \n",
    "    \n"
   ]
  },
  {
   "cell_type": "code",
   "execution_count": null,
   "metadata": {},
   "outputs": [],
   "source": [
    "edgeMaps = {}\n",
    "\n",
    "for filepath, gray in sobel.items():\n",
    "\n",
    "    \n",
    "    \n",
    "    # gray = gray.reshape(gray.shape[0], gray.shape[1], 1)\n",
    "    \n",
    "    print(gray.shape)\n",
    "\n",
    "    edges = cv2.Canny(gray, 200, 255, 3, L2gradient=True)\n",
    "    \n",
    "    edgeMaps[filepath] = edges\n",
    "    \n",
    "    f = plt.figure()\n",
    "    f.add_subplot(1,2, 1)\n",
    "    plt.imshow(images[filepath])\n",
    "    f.add_subplot(1,2, 2)\n",
    "    plt.imshow(edges, cmap='gray')\n",
    "    plt.show(block=True)"
   ]
  }
 ],
 "metadata": {
  "interpreter": {
   "hash": "aee8b7b246df8f9039afb4144a1f6fd8d2ca17a180786b69acc140d282b71a49"
  },
  "kernelspec": {
   "display_name": "Python 3.7.9 64-bit",
   "language": "python",
   "name": "python3"
  },
  "language_info": {
   "codemirror_mode": {
    "name": "ipython",
    "version": 3
   },
   "file_extension": ".py",
   "mimetype": "text/x-python",
   "name": "python",
   "nbconvert_exporter": "python",
   "pygments_lexer": "ipython3",
   "version": "3.7.9"
  },
  "orig_nbformat": 4
 },
 "nbformat": 4,
 "nbformat_minor": 2
}
